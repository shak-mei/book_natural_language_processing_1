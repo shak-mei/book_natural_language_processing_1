{
 "cells": [
  {
   "cell_type": "markdown",
   "id": "562807aa-fd4a-438b-ad5c-26ae5e0b4e67",
   "metadata": {},
   "source": [
    "# Load the book"
   ]
  },
  {
   "cell_type": "code",
   "execution_count": 1,
   "id": "08c067ab-828c-47b4-afa3-40dc0150082f",
   "metadata": {},
   "outputs": [],
   "source": [
    "with open('miracle_in_the_andes.txt', 'r', encoding='utf-8') as file:\n",
    "    book = file.read()"
   ]
  },
  {
   "cell_type": "markdown",
   "id": "364014e2-2358-4641-8c08-b8110b549078",
   "metadata": {},
   "source": [
    "# Count the chapters"
   ]
  },
  {
   "cell_type": "code",
   "execution_count": 2,
   "id": "8f9ba38b-d48b-41db-9335-1c428596a1e5",
   "metadata": {},
   "outputs": [
    {
     "data": {
      "text/plain": [
       "11"
      ]
     },
     "execution_count": 2,
     "metadata": {},
     "output_type": "execute_result"
    }
   ],
   "source": [
    "book.count('Chapter')"
   ]
  },
  {
   "cell_type": "markdown",
   "id": "0a9c6c0b-0705-448e-bad3-c3ed831c4328",
   "metadata": {},
   "source": [
    "# With regex"
   ]
  },
  {
   "cell_type": "code",
   "execution_count": 3,
   "id": "d517be1e-1b8b-40f1-8f19-3c2e16d1b17a",
   "metadata": {},
   "outputs": [],
   "source": [
    "import re"
   ]
  },
  {
   "cell_type": "code",
   "execution_count": 4,
   "id": "002498a3-5fa7-4ecf-bc95-6c4f0a7a043c",
   "metadata": {},
   "outputs": [
    {
     "data": {
      "text/plain": [
       "re.compile(r'Chapter [0-9]+', re.UNICODE)"
      ]
     },
     "execution_count": 4,
     "metadata": {},
     "output_type": "execute_result"
    }
   ],
   "source": [
    "# Create a regex type\n",
    "# The + is because there are more than one digit to some chapters\n",
    "pattern = re.compile(\"Chapter [0-9]+\")\n",
    "pattern"
   ]
  },
  {
   "cell_type": "code",
   "execution_count": 5,
   "id": "0583da9f-fb62-4b83-bbb7-bf55af1c317d",
   "metadata": {},
   "outputs": [
    {
     "data": {
      "text/plain": [
       "['Chapter 1',\n",
       " 'Chapter 2',\n",
       " 'Chapter 3',\n",
       " 'Chapter 4',\n",
       " 'Chapter 5',\n",
       " 'Chapter 6',\n",
       " 'Chapter 7',\n",
       " 'Chapter 8',\n",
       " 'Chapter 9',\n",
       " 'Chapter 10']"
      ]
     },
     "execution_count": 5,
     "metadata": {},
     "output_type": "execute_result"
    }
   ],
   "source": [
    "# Look for all the chapters inside the book\n",
    "findings = re.findall(pattern, book)\n",
    "findings"
   ]
  },
  {
   "cell_type": "code",
   "execution_count": 6,
   "id": "c211be06-3b51-4dcc-b7a2-869d63145aa9",
   "metadata": {},
   "outputs": [
    {
     "data": {
      "text/plain": [
       "10"
      ]
     },
     "execution_count": 6,
     "metadata": {},
     "output_type": "execute_result"
    }
   ],
   "source": [
    "len(findings)"
   ]
  },
  {
   "cell_type": "markdown",
   "id": "c42450bb-dde6-47cb-852c-3e8217872250",
   "metadata": {},
   "source": [
    "# Which are the sentences where \"love\" was used?"
   ]
  },
  {
   "cell_type": "code",
   "execution_count": 16,
   "id": "55db272e-bed0-4830-9c42-d632ebb753ae",
   "metadata": {},
   "outputs": [
    {
     "data": {
      "text/plain": [
       "67"
      ]
     },
     "execution_count": 16,
     "metadata": {},
     "output_type": "execute_result"
    }
   ],
   "source": [
    "# Everything but a period. [^.]\n",
    "# Only capital letters once [A-Z]{1}\n",
    "# Not a letter [^a-zA-Z]\n",
    "# not a period 0 or more times [^.]* This is what the asterisk stands for\n",
    "# + means more than one in a row.\n",
    "pattern = re.compile(\"[A-Z]{1}[^.]*[^a-zA-Z]+love[^a-zA-Z]+[^.]*.\")\n",
    "findings = re.findall(pattern, book)\n",
    "len(findings)"
   ]
  },
  {
   "cell_type": "markdown",
   "id": "f405d5bc-3b7f-439a-b425-e92e3e8dfb5e",
   "metadata": {},
   "source": [
    "# What are the most common words in the book"
   ]
  },
  {
   "cell_type": "code",
   "execution_count": 18,
   "id": "49a07922-2902-4b53-8480-571d5b376756",
   "metadata": {},
   "outputs": [
    {
     "data": {
      "text/plain": [
       "['chapter', 'before', 'it', 'was', 'friday']"
      ]
     },
     "execution_count": 18,
     "metadata": {},
     "output_type": "execute_result"
    }
   ],
   "source": [
    "pattern = re.compile(\"[a-zA-Z]+\")\n",
    "findings = re.findall(pattern, book.lower())\n",
    "findings[:5]"
   ]
  },
  {
   "cell_type": "code",
   "execution_count": 21,
   "id": "4a36d171-cf6f-4018-bf06-be2b2e6b92aa",
   "metadata": {},
   "outputs": [],
   "source": [
    "# Creating a blank dictionary\n",
    "d = {}\n",
    "for word in findings:\n",
    "    if word in d.keys():\n",
    "        d[word] = d[word]+1\n",
    "    else:\n",
    "        d[word] = 1"
   ]
  },
  {
   "cell_type": "code",
   "execution_count": 25,
   "id": "59712fdb-c00f-4710-bcc9-8b963cf61bb6",
   "metadata": {},
   "outputs": [],
   "source": [
    "# In order to count it we will need to turn it into a list of tupples\n",
    "d_list = [(value, key) for (key, value) in d.items()]\n",
    "sorted_d_list = sorted(d_list, reverse=True)"
   ]
  },
  {
   "cell_type": "markdown",
   "id": "3559bd47-d8ca-4929-a999-86e84e49982f",
   "metadata": {},
   "source": [
    "# Extract the paragraphs where 'love' was used"
   ]
  },
  {
   "cell_type": "code",
   "execution_count": 72,
   "id": "594ea279-1cd3-4a61-a845-a7fd2bf6966b",
   "metadata": {},
   "outputs": [],
   "source": [
    "pattern = re.compile(\"[A-Z]{1}[^\\n]*[^a-zA-Z]+love[^a-zA-Z]+[^\\n]*.\")\n",
    "findings = re.findall(pattern, book)"
   ]
  },
  {
   "cell_type": "markdown",
   "id": "ea02d17c-26a5-4b5c-bda0-a6ccf53f9e17",
   "metadata": {},
   "source": [
    "# Extract the chapter titles"
   ]
  },
  {
   "cell_type": "code",
   "execution_count": 73,
   "id": "59ddc993-d18e-4929-bbe3-944a98685a89",
   "metadata": {},
   "outputs": [
    {
     "data": {
      "text/plain": [
       "['Before',\n",
       " 'Everything Precious',\n",
       " 'A Promise',\n",
       " 'Breathe Once More',\n",
       " 'Abandoned',\n",
       " 'Tomb',\n",
       " 'East',\n",
       " 'The Opposite of Death',\n",
       " 'I See a Man',\n",
       " 'After']"
      ]
     },
     "execution_count": 73,
     "metadata": {},
     "output_type": "execute_result"
    }
   ],
   "source": [
    "pattern = re.compile(\"[a-zA-Z ,]+\\n\\n\") #[\\n]+[^A-Z][$\\n]\n",
    "findings = re.findall(pattern, book)\n",
    "findings = [item.strip(\"\\n\\n\") for item in findings]\n",
    "findings"
   ]
  },
  {
   "cell_type": "code",
   "execution_count": 74,
   "id": "145981f4-c0cc-4684-bc98-3abbe844cdee",
   "metadata": {},
   "outputs": [
    {
     "data": {
      "text/plain": [
       "['Before',\n",
       " 'Everything Precious',\n",
       " 'A Promise',\n",
       " 'Breathe Once More',\n",
       " 'Abandoned',\n",
       " 'Tomb',\n",
       " 'East',\n",
       " 'The Opposite of Death',\n",
       " 'I See a Man',\n",
       " 'After']"
      ]
     },
     "execution_count": 74,
     "metadata": {},
     "output_type": "execute_result"
    }
   ],
   "source": [
    "pattern = re.compile(\"([a-zA-Z ,]+)\\n\\n\") #[\\n]+[^A-Z][$\\n]\n",
    "findings = re.findall(pattern, book)\n",
    "findings"
   ]
  },
  {
   "cell_type": "markdown",
   "id": "01d77d2e-531a-412b-adbb-097693fae8e4",
   "metadata": {},
   "source": [
    "# A function that finds the occurrence of any word"
   ]
  },
  {
   "cell_type": "code",
   "execution_count": 78,
   "id": "aa6e9999-3a0f-4873-a2de-3386d14fc80e",
   "metadata": {},
   "outputs": [],
   "source": [
    "# def find(word):\n",
    "#     pattern = re.compile(\"[a-zA-Z]+\")\n",
    "#     findings = re.findall(pattern, book.lower())\n",
    "#     d = {}\n",
    "#     for w in findings:\n",
    "#         if w in d.keys():\n",
    "#             d[w] = d[w]+1\n",
    "#         else:\n",
    "#             d[w] = 1\n",
    "#     if word in d.keys():\n",
    "#         countings = d[word]\n",
    "#     else:\n",
    "#         countings = f'The word \"{word}\" you are looking for does not exist in this book'\n",
    "#     return countings\n",
    "def find(word):\n",
    "\tpattern = re.compile(\"[a-zA-Z]+\")\n",
    "\tfindings = re.findall(pattern, book.lower())\n",
    "\td = {}\n",
    "\tfor w in findings:\n",
    "\t\tif w in d.keys():\n",
    "\t\t\td[w] = d[w]+1\n",
    "\t\telse:\n",
    "\t\t\td[w] = 1\n",
    "\ttry:\n",
    "\t\t\tcountings = d[word]\n",
    "\texcept:\n",
    "\t\t\tcountings = f'The word \"{word}\" you are looking for does not exist in this book'\n",
    "\treturn countings"
   ]
  },
  {
   "cell_type": "markdown",
   "id": "069f3b7f-94ec-4244-89c8-2f06fef44c6b",
   "metadata": {},
   "source": [
    "# Call the function"
   ]
  },
  {
   "cell_type": "code",
   "execution_count": 79,
   "id": "d76dc918-352e-4843-8e19-0525619f5ef6",
   "metadata": {},
   "outputs": [
    {
     "data": {
      "text/plain": [
       "83"
      ]
     },
     "execution_count": 79,
     "metadata": {},
     "output_type": "execute_result"
    }
   ],
   "source": [
    "find('love')"
   ]
  },
  {
   "cell_type": "code",
   "execution_count": 80,
   "id": "08421c96-3054-4199-b760-21799004ec27",
   "metadata": {},
   "outputs": [
    {
     "data": {
      "text/plain": [
       "'The word \"hate\" you are looking for does not exist in this book'"
      ]
     },
     "execution_count": 80,
     "metadata": {},
     "output_type": "execute_result"
    }
   ],
   "source": [
    "find('hate')"
   ]
  }
 ],
 "metadata": {
  "kernelspec": {
   "display_name": "Python 3 (ipykernel)",
   "language": "python",
   "name": "python3"
  },
  "language_info": {
   "codemirror_mode": {
    "name": "ipython",
    "version": 3
   },
   "file_extension": ".py",
   "mimetype": "text/x-python",
   "name": "python",
   "nbconvert_exporter": "python",
   "pygments_lexer": "ipython3",
   "version": "3.10.8"
  }
 },
 "nbformat": 4,
 "nbformat_minor": 5
}
