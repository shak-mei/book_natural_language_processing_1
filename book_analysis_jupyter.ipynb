{
 "cells": [
  {
   "cell_type": "markdown",
   "id": "562807aa-fd4a-438b-ad5c-26ae5e0b4e67",
   "metadata": {},
   "source": [
    "# Load the book"
   ]
  },
  {
   "cell_type": "code",
   "execution_count": 1,
   "id": "08c067ab-828c-47b4-afa3-40dc0150082f",
   "metadata": {},
   "outputs": [],
   "source": [
    "with open('miracle_in_the_andes.txt', 'r', encoding='utf-8') as file:\n",
    "    book = file.read()"
   ]
  },
  {
   "cell_type": "markdown",
   "id": "364014e2-2358-4641-8c08-b8110b549078",
   "metadata": {},
   "source": [
    "# Count the chapters"
   ]
  },
  {
   "cell_type": "code",
   "execution_count": 2,
   "id": "8f9ba38b-d48b-41db-9335-1c428596a1e5",
   "metadata": {},
   "outputs": [
    {
     "data": {
      "text/plain": [
       "11"
      ]
     },
     "execution_count": 2,
     "metadata": {},
     "output_type": "execute_result"
    }
   ],
   "source": [
    "book.count('Chapter')"
   ]
  },
  {
   "cell_type": "markdown",
   "id": "0a9c6c0b-0705-448e-bad3-c3ed831c4328",
   "metadata": {},
   "source": [
    "# With regex"
   ]
  },
  {
   "cell_type": "code",
   "execution_count": 3,
   "id": "d517be1e-1b8b-40f1-8f19-3c2e16d1b17a",
   "metadata": {},
   "outputs": [],
   "source": [
    "import re"
   ]
  },
  {
   "cell_type": "code",
   "execution_count": 4,
   "id": "002498a3-5fa7-4ecf-bc95-6c4f0a7a043c",
   "metadata": {},
   "outputs": [
    {
     "data": {
      "text/plain": [
       "re.compile(r'Chapter [0-9]+', re.UNICODE)"
      ]
     },
     "execution_count": 4,
     "metadata": {},
     "output_type": "execute_result"
    }
   ],
   "source": [
    "# Create a regex type\n",
    "# The + is because there are more than one digit to some chapters\n",
    "pattern = re.compile(\"Chapter [0-9]+\")\n",
    "pattern"
   ]
  },
  {
   "cell_type": "code",
   "execution_count": 5,
   "id": "0583da9f-fb62-4b83-bbb7-bf55af1c317d",
   "metadata": {},
   "outputs": [
    {
     "data": {
      "text/plain": [
       "['Chapter 1',\n",
       " 'Chapter 2',\n",
       " 'Chapter 3',\n",
       " 'Chapter 4',\n",
       " 'Chapter 5',\n",
       " 'Chapter 6',\n",
       " 'Chapter 7',\n",
       " 'Chapter 8',\n",
       " 'Chapter 9',\n",
       " 'Chapter 10']"
      ]
     },
     "execution_count": 5,
     "metadata": {},
     "output_type": "execute_result"
    }
   ],
   "source": [
    "# Look for all the chapters inside the book\n",
    "findings = re.findall(pattern, book)\n",
    "findings"
   ]
  },
  {
   "cell_type": "code",
   "execution_count": 6,
   "id": "c211be06-3b51-4dcc-b7a2-869d63145aa9",
   "metadata": {},
   "outputs": [
    {
     "data": {
      "text/plain": [
       "10"
      ]
     },
     "execution_count": 6,
     "metadata": {},
     "output_type": "execute_result"
    }
   ],
   "source": [
    "len(findings)"
   ]
  },
  {
   "cell_type": "markdown",
   "id": "c42450bb-dde6-47cb-852c-3e8217872250",
   "metadata": {},
   "source": [
    "# Which are the sentences where \"love\" was used?"
   ]
  },
  {
   "cell_type": "code",
   "execution_count": 7,
   "id": "55db272e-bed0-4830-9c42-d632ebb753ae",
   "metadata": {},
   "outputs": [
    {
     "data": {
      "text/plain": [
       "67"
      ]
     },
     "execution_count": 7,
     "metadata": {},
     "output_type": "execute_result"
    }
   ],
   "source": [
    "# Everything but a period. [^.]\n",
    "# Only capital letters once [A-Z]{1}\n",
    "# Not a letter [^a-zA-Z]\n",
    "# not a period 0 or more times [^.]* This is what the asterisk stands for\n",
    "# + means more than one in a row.\n",
    "pattern = re.compile(\"[A-Z]{1}[^.]*[^a-zA-Z]+love[^a-zA-Z]+[^.]*.\")\n",
    "findings = re.findall(pattern, book)\n",
    "len(findings)"
   ]
  },
  {
   "cell_type": "markdown",
   "id": "f405d5bc-3b7f-439a-b425-e92e3e8dfb5e",
   "metadata": {},
   "source": [
    "# What are the most common words in the book"
   ]
  },
  {
   "cell_type": "code",
   "execution_count": 8,
   "id": "49a07922-2902-4b53-8480-571d5b376756",
   "metadata": {},
   "outputs": [
    {
     "data": {
      "text/plain": [
       "['chapter', 'before', 'it', 'was', 'friday']"
      ]
     },
     "execution_count": 8,
     "metadata": {},
     "output_type": "execute_result"
    }
   ],
   "source": [
    "pattern = re.compile(\"[a-zA-Z]+\")\n",
    "findings = re.findall(pattern, book.lower())\n",
    "findings[:5]"
   ]
  },
  {
   "cell_type": "code",
   "execution_count": 9,
   "id": "4a36d171-cf6f-4018-bf06-be2b2e6b92aa",
   "metadata": {},
   "outputs": [],
   "source": [
    "# Creating a blank dictionary\n",
    "d = {}\n",
    "for word in findings:\n",
    "    if word in d.keys():\n",
    "        d[word] = d[word]+1\n",
    "    else:\n",
    "        d[word] = 1"
   ]
  },
  {
   "cell_type": "code",
   "execution_count": 10,
   "id": "59712fdb-c00f-4710-bcc9-8b963cf61bb6",
   "metadata": {},
   "outputs": [],
   "source": [
    "# In order to count it we will need to turn it into a list of tupples\n",
    "d_list = [(value, key) for (key, value) in d.items()]\n",
    "sorted_d_list = sorted(d_list, reverse=True)"
   ]
  },
  {
   "cell_type": "markdown",
   "id": "3559bd47-d8ca-4929-a999-86e84e49982f",
   "metadata": {},
   "source": [
    "# Extract the paragraphs where 'love' was used"
   ]
  },
  {
   "cell_type": "code",
   "execution_count": 11,
   "id": "594ea279-1cd3-4a61-a845-a7fd2bf6966b",
   "metadata": {},
   "outputs": [],
   "source": [
    "pattern = re.compile(\"[A-Z]{1}[^\\n]*[^a-zA-Z]+love[^a-zA-Z]+[^\\n]*.\")\n",
    "findings = re.findall(pattern, book)"
   ]
  },
  {
   "cell_type": "markdown",
   "id": "ea02d17c-26a5-4b5c-bda0-a6ccf53f9e17",
   "metadata": {},
   "source": [
    "# Extract the chapter titles"
   ]
  },
  {
   "cell_type": "code",
   "execution_count": 12,
   "id": "59ddc993-d18e-4929-bbe3-944a98685a89",
   "metadata": {},
   "outputs": [
    {
     "data": {
      "text/plain": [
       "['Before',\n",
       " 'Everything Precious',\n",
       " 'A Promise',\n",
       " 'Breathe Once More',\n",
       " 'Abandoned',\n",
       " 'Tomb',\n",
       " 'East',\n",
       " 'The Opposite of Death',\n",
       " 'I See a Man',\n",
       " 'After']"
      ]
     },
     "execution_count": 12,
     "metadata": {},
     "output_type": "execute_result"
    }
   ],
   "source": [
    "pattern = re.compile(\"[a-zA-Z ,]+\\n\\n\") #[\\n]+[^A-Z][$\\n]\n",
    "findings = re.findall(pattern, book)\n",
    "findings = [item.strip(\"\\n\\n\") for item in findings]\n",
    "findings"
   ]
  },
  {
   "cell_type": "code",
   "execution_count": 13,
   "id": "145981f4-c0cc-4684-bc98-3abbe844cdee",
   "metadata": {},
   "outputs": [
    {
     "data": {
      "text/plain": [
       "['Before',\n",
       " 'Everything Precious',\n",
       " 'A Promise',\n",
       " 'Breathe Once More',\n",
       " 'Abandoned',\n",
       " 'Tomb',\n",
       " 'East',\n",
       " 'The Opposite of Death',\n",
       " 'I See a Man',\n",
       " 'After']"
      ]
     },
     "execution_count": 13,
     "metadata": {},
     "output_type": "execute_result"
    }
   ],
   "source": [
    "pattern = re.compile(\"([a-zA-Z ,]+)\\n\\n\") #[\\n]+[^A-Z][$\\n]\n",
    "findings = re.findall(pattern, book)\n",
    "findings"
   ]
  },
  {
   "cell_type": "markdown",
   "id": "01d77d2e-531a-412b-adbb-097693fae8e4",
   "metadata": {},
   "source": [
    "# A function that finds the occurrence of any word"
   ]
  },
  {
   "cell_type": "code",
   "execution_count": 14,
   "id": "aa6e9999-3a0f-4873-a2de-3386d14fc80e",
   "metadata": {},
   "outputs": [],
   "source": [
    "# def find(word):\n",
    "#     pattern = re.compile(\"[a-zA-Z]+\")\n",
    "#     findings = re.findall(pattern, book.lower())\n",
    "#     d = {}\n",
    "#     for w in findings:\n",
    "#         if w in d.keys():\n",
    "#             d[w] = d[w]+1\n",
    "#         else:\n",
    "#             d[w] = 1\n",
    "#     if word in d.keys():\n",
    "#         countings = d[word]\n",
    "#     else:\n",
    "#         countings = f'The word \"{word}\" you are looking for does not exist in this book'\n",
    "#     return countings\n",
    "def find(word):\n",
    "\tpattern = re.compile(\"[a-zA-Z]+\")\n",
    "\tfindings = re.findall(pattern, book.lower())\n",
    "\td = {}\n",
    "\tfor w in findings:\n",
    "\t\tif w in d.keys():\n",
    "\t\t\td[w] = d[w]+1\n",
    "\t\telse:\n",
    "\t\t\td[w] = 1\n",
    "\ttry:\n",
    "\t\t\tcountings = d[word]\n",
    "\texcept:\n",
    "\t\t\tcountings = f'The word \"{word}\" you are looking for does not exist in this book'\n",
    "\treturn countings"
   ]
  },
  {
   "cell_type": "markdown",
   "id": "069f3b7f-94ec-4244-89c8-2f06fef44c6b",
   "metadata": {},
   "source": [
    "# Call the function"
   ]
  },
  {
   "cell_type": "code",
   "execution_count": 15,
   "id": "d76dc918-352e-4843-8e19-0525619f5ef6",
   "metadata": {},
   "outputs": [
    {
     "data": {
      "text/plain": [
       "83"
      ]
     },
     "execution_count": 15,
     "metadata": {},
     "output_type": "execute_result"
    }
   ],
   "source": [
    "find('love')"
   ]
  },
  {
   "cell_type": "code",
   "execution_count": 16,
   "id": "08421c96-3054-4199-b760-21799004ec27",
   "metadata": {},
   "outputs": [
    {
     "data": {
      "text/plain": [
       "'The word \"hate\" you are looking for does not exist in this book'"
      ]
     },
     "execution_count": 16,
     "metadata": {},
     "output_type": "execute_result"
    }
   ],
   "source": [
    "find('hate')"
   ]
  },
  {
   "cell_type": "markdown",
   "id": "704f1a80-46bf-4f79-97e8-5b7c1e01d7e2",
   "metadata": {},
   "source": [
    "# Find the most common non article words in the book"
   ]
  },
  {
   "cell_type": "code",
   "execution_count": 28,
   "id": "a89382da-8e51-44d0-ae44-8d51ec7fcbd4",
   "metadata": {},
   "outputs": [
    {
     "data": {
      "text/plain": [
       "[(5346, 'the'),\n",
       " (2795, 'and'),\n",
       " (2729, 'i'),\n",
       " (2400, 'to'),\n",
       " (2060, 'of'),\n",
       " (1566, 'a'),\n",
       " (1430, 'was'),\n",
       " (1419, 'in'),\n",
       " (1226, 'we'),\n",
       " (1169, 'my')]"
      ]
     },
     "execution_count": 28,
     "metadata": {},
     "output_type": "execute_result"
    }
   ],
   "source": [
    "pattern = re.compile(\"[a-zA-Z]+\")\n",
    "findings = re.findall(pattern, book.lower())\n",
    "d = {}\n",
    "for w in findings:\n",
    "\tif w in d.keys():\n",
    "\t\td[w] = d[w]+1\n",
    "\telse:\n",
    "\t\td[w] = 1\n",
    "d_list = [(value, key) for (key, value) in d.items()]\n",
    "d_list = sorted(d_list, reverse=True)\n",
    "d_list[:10]"
   ]
  },
  {
   "cell_type": "code",
   "execution_count": 30,
   "id": "b4eb1c4e-d9d8-465d-849b-43d561c99cf2",
   "metadata": {},
   "outputs": [
    {
     "data": {
      "text/plain": [
       "'3.10.8'"
      ]
     },
     "execution_count": 30,
     "metadata": {},
     "output_type": "execute_result"
    }
   ],
   "source": [
    "from platform import python_version\n",
    "python_version()"
   ]
  },
  {
   "cell_type": "code",
   "execution_count": 33,
   "id": "6e5b50eb-af3c-4dd5-b041-4c2817b9a9db",
   "metadata": {
    "collapsed": true,
    "jupyter": {
     "outputs_hidden": true
    }
   },
   "outputs": [
    {
     "name": "stdout",
     "output_type": "stream",
     "text": [
      "Requirement already satisfied: nltk in c:\\python_mega_course\\module 4\\book_natural_language_processing_1\\venv\\lib\\site-packages (3.8.1)\n",
      "Requirement already satisfied: click in c:\\python_mega_course\\module 4\\book_natural_language_processing_1\\venv\\lib\\site-packages (from nltk) (8.1.7)\n",
      "Requirement already satisfied: joblib in c:\\python_mega_course\\module 4\\book_natural_language_processing_1\\venv\\lib\\site-packages (from nltk) (1.3.2)\n",
      "Requirement already satisfied: tqdm in c:\\python_mega_course\\module 4\\book_natural_language_processing_1\\venv\\lib\\site-packages (from nltk) (4.66.1)\n",
      "Requirement already satisfied: regex>=2021.8.3 in c:\\python_mega_course\\module 4\\book_natural_language_processing_1\\venv\\lib\\site-packages (from nltk) (2023.8.8)\n",
      "Requirement already satisfied: colorama in c:\\python_mega_course\\module 4\\book_natural_language_processing_1\\venv\\lib\\site-packages (from click->nltk) (0.4.6)\n"
     ]
    },
    {
     "name": "stderr",
     "output_type": "stream",
     "text": [
      "\n",
      "[notice] A new release of pip available: 22.3.1 -> 23.2.1\n",
      "[notice] To update, run: python.exe -m pip install --upgrade pip\n"
     ]
    }
   ],
   "source": [
    "!pip3.10 install nltk"
   ]
  },
  {
   "cell_type": "code",
   "execution_count": 42,
   "id": "b1241587-e70d-4f03-97e2-8d3d4ce0cc51",
   "metadata": {
    "collapsed": true,
    "jupyter": {
     "outputs_hidden": true
    }
   },
   "outputs": [
    {
     "name": "stderr",
     "output_type": "stream",
     "text": [
      "[nltk_data] Downloading package stopwords to\n",
      "[nltk_data]     C:\\Users\\Shaked\\AppData\\Roaming\\nltk_data...\n",
      "[nltk_data]   Unzipping corpora\\stopwords.zip.\n"
     ]
    }
   ],
   "source": [
    "import nltk\n",
    "nltk.download('stopwords')\n",
    "from nltk.corpus import stopwords"
   ]
  },
  {
   "cell_type": "code",
   "execution_count": 45,
   "id": "212ff971-4a06-4d2c-a6d7-753f3a89ca33",
   "metadata": {},
   "outputs": [],
   "source": [
    "english_stopwords = stopwords.words(\"english\")"
   ]
  },
  {
   "cell_type": "code",
   "execution_count": 50,
   "id": "ce805689-d308-4012-88f9-26311e58f102",
   "metadata": {},
   "outputs": [],
   "source": [
    "filtered_words = []\n",
    "for count, word in d_list:\n",
    "    if word not in english_stopwords:\n",
    "        filtered_words.append((count, word))"
   ]
  },
  {
   "cell_type": "markdown",
   "id": "165ab1ac-806e-4d40-9c16-f26d6813c8b3",
   "metadata": {},
   "source": [
    "# Using nltk for sentiment analysis: What is the most positive and most negative chapters in the book?"
   ]
  },
  {
   "cell_type": "code",
   "execution_count": 54,
   "id": "f0062800-fcf4-4ec4-a660-4f285a31eef4",
   "metadata": {},
   "outputs": [
    {
     "name": "stderr",
     "output_type": "stream",
     "text": [
      "[nltk_data] Downloading package vader_lexicon to\n",
      "[nltk_data]     C:\\Users\\Shaked\\AppData\\Roaming\\nltk_data...\n"
     ]
    },
    {
     "data": {
      "text/plain": [
       "True"
      ]
     },
     "execution_count": 54,
     "metadata": {},
     "output_type": "execute_result"
    }
   ],
   "source": [
    "from nltk.sentiment import SentimentIntensityAnalyzer\n",
    "nltk.download('vader_lexicon')"
   ]
  },
  {
   "cell_type": "code",
   "execution_count": 56,
   "id": "7c598eba-0a7d-422f-ba15-b89d567d51ca",
   "metadata": {},
   "outputs": [],
   "source": [
    "analyzer = SentimentIntensityAnalyzer()"
   ]
  },
  {
   "cell_type": "code",
   "execution_count": 57,
   "id": "a0cabd20-1896-4bfd-85fe-9416ae10585f",
   "metadata": {},
   "outputs": [
    {
     "data": {
      "text/plain": [
       "{'neg': 0.649, 'neu': 0.351, 'pos': 0.0, 'compound': -0.5719}"
      ]
     },
     "execution_count": 57,
     "metadata": {},
     "output_type": "execute_result"
    }
   ],
   "source": [
    "analyzer.polarity_scores('I hate this life')"
   ]
  },
  {
   "cell_type": "code",
   "execution_count": 58,
   "id": "e06791d8-5d36-4f14-9cdb-9eaac2895967",
   "metadata": {},
   "outputs": [
    {
     "data": {
      "text/plain": [
       "{'neg': 0.0, 'neu': 0.323, 'pos': 0.677, 'compound': 0.6369}"
      ]
     },
     "execution_count": 58,
     "metadata": {},
     "output_type": "execute_result"
    }
   ],
   "source": [
    "analyzer.polarity_scores('I love this life')"
   ]
  },
  {
   "cell_type": "code",
   "execution_count": 59,
   "id": "e717e167-e9f6-4637-992b-17b983a9f811",
   "metadata": {},
   "outputs": [],
   "source": [
    "import re\n",
    "\n",
    "pattern = re.compile(\"Chapter [0-9]+\")\n",
    "chapters = re.split(pattern, book)\n",
    "chapters = chapters[1:]"
   ]
  },
  {
   "cell_type": "code",
   "execution_count": 66,
   "id": "2e4ed81b-81bf-43d1-93dc-182b7d2d0c1f",
   "metadata": {},
   "outputs": [
    {
     "name": "stdout",
     "output_type": "stream",
     "text": [
      "Chapter  1  -  {'neg': 0.061, 'neu': 0.779, 'pos': 0.16, 'compound': 1.0}\n",
      "Chapter  2  -  {'neg': 0.12, 'neu': 0.726, 'pos': 0.154, 'compound': 0.9991}\n",
      "Chapter  3  -  {'neg': 0.145, 'neu': 0.751, 'pos': 0.105, 'compound': -0.9999}\n",
      "Chapter  4  -  {'neg': 0.141, 'neu': 0.721, 'pos': 0.138, 'compound': -0.9963}\n",
      "Chapter  5  -  {'neg': 0.118, 'neu': 0.742, 'pos': 0.141, 'compound': 0.9997}\n",
      "Chapter  6  -  {'neg': 0.124, 'neu': 0.761, 'pos': 0.115, 'compound': -0.9979}\n",
      "Chapter  7  -  {'neg': 0.136, 'neu': 0.761, 'pos': 0.103, 'compound': -0.9999}\n",
      "Chapter  8  -  {'neg': 0.12, 'neu': 0.786, 'pos': 0.094, 'compound': -0.9998}\n",
      "Chapter  9  -  {'neg': 0.097, 'neu': 0.824, 'pos': 0.079, 'compound': -0.9996}\n",
      "Chapter  10  -  {'neg': 0.086, 'neu': 0.733, 'pos': 0.181, 'compound': 1.0}\n"
     ]
    }
   ],
   "source": [
    "for nr, chapter in enumerate(chapters):\n",
    "    score = analyzer.polarity_scores(chapter)\n",
    "    print(\"Chapter \", nr+1, ' - ', score)"
   ]
  }
 ],
 "metadata": {
  "kernelspec": {
   "display_name": "Python 3 (ipykernel)",
   "language": "python",
   "name": "python3"
  },
  "language_info": {
   "codemirror_mode": {
    "name": "ipython",
    "version": 3
   },
   "file_extension": ".py",
   "mimetype": "text/x-python",
   "name": "python",
   "nbconvert_exporter": "python",
   "pygments_lexer": "ipython3",
   "version": "3.10.8"
  }
 },
 "nbformat": 4,
 "nbformat_minor": 5
}
